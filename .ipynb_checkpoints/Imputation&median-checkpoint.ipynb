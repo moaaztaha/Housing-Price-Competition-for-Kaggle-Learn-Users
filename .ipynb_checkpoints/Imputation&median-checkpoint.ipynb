{
 "cells": [
  {
   "cell_type": "markdown",
   "metadata": {},
   "source": [
    "### To-Do\n",
    "- [x] Use Only Numerical data\n",
    "- [x] deal with missing data\n",
    "    - [x] Imputation\n",
    "    - [ ] Imputation with extension\n",
    "- [x] Submit \n",
    "\n",
    "### Next\n",
    "- [x] Fix the imputation thing\n",
    "- [ ] Deal with text data\n",
    "- [ ] Preprocessing"
   ]
  },
  {
   "cell_type": "code",
   "execution_count": 10,
   "metadata": {},
   "outputs": [],
   "source": [
    "import pandas as pd \n",
    "import numpy as np\n",
    "from sklearn.model_selection import train_test_split\n",
    "from sklearn import preprocessing\n",
    "\n",
    "# Cross-validation pipeline\n",
    "from sklearn.pipeline import make_pipeline\n",
    "from sklearn.model_selection import GridSearchCV\n",
    "\n",
    "from sklearn.metrics import mean_squared_error, mean_absolute_error\n",
    "\n",
    "from sklearn.externals import joblib # for saving the model"
   ]
  },
  {
   "cell_type": "code",
   "execution_count": 2,
   "metadata": {},
   "outputs": [],
   "source": [
    "from math import sqrt\n",
    "def rmse(actuals, predictions):\n",
    "    return sqrt(mean_squared_error(actuals, predictions))"
   ]
  },
  {
   "cell_type": "code",
   "execution_count": 35,
   "metadata": {},
   "outputs": [],
   "source": [
    "# Read data\n",
    "X_full = pd.read_csv('train.csv', index_col='Id')\n",
    "X_test_full = pd.read_csv('test.csv', index_col='Id')\n",
    "\n",
    "# Remove rows with missing targets, seperate target from predictors\n",
    "X_full.dropna(axis=0, subset=['SalePrice'], inplace=True)\n",
    "y = X_full.SalePrice\n",
    "X_full.drop(['SalePrice'], axis=1, inplace=True)\n",
    "\n",
    "# Only use numerical predictors\n",
    "X = X_full.select_dtypes(exclude=['object'])\n",
    "X_test = X_test_full.select_dtypes(exclude=['object'])\n",
    "\n",
    "# Break off validation data from training data\n",
    "X_train, X_valid, y_train, y_valid = train_test_split(X, y, test_size=.2, random_state=0)"
   ]
  },
  {
   "cell_type": "code",
   "execution_count": 36,
   "metadata": {},
   "outputs": [
    {
     "name": "stdout",
     "output_type": "stream",
     "text": [
      "(1168, 36)\n",
      "(1459, 36)\n"
     ]
    }
   ],
   "source": [
    "print(X_train.shape)\n",
    "print(X_test.shape)"
   ]
  },
  {
   "cell_type": "code",
   "execution_count": 37,
   "metadata": {},
   "outputs": [
    {
     "name": "stdout",
     "output_type": "stream",
     "text": [
      "LotFrontage    212\n",
      "GarageYrBlt     58\n",
      "MasVnrArea       6\n",
      "dtype: int64\n"
     ]
    }
   ],
   "source": [
    "# Number of missing values per columns\n",
    "missing_val_count_by_column = (X_train.isnull().sum())\n",
    "print(missing_val_count_by_column[missing_val_count_by_column>0].sort_values(ascending=False))"
   ]
  },
  {
   "cell_type": "markdown",
   "metadata": {},
   "source": [
    "### Training multiple models "
   ]
  },
  {
   "cell_type": "code",
   "execution_count": 53,
   "metadata": {},
   "outputs": [],
   "source": [
    "# Meadian and Zeros\n",
    "X_simi_train = X_train\n",
    "X_simi_valid = X_valid\n",
    "\n",
    "X_simi_train['GarageYrBlt'].fillna(0, inplace=True)\n",
    "X_simi_valid['GarageYrBlt'].fillna(0, inplace=True)\n",
    "\n",
    "mz_imputer = SimpleImputer(strategy='median')\n",
    "\n",
    "X_final_train = pd.DataFrame(mz_imputer.fit_transform(X_simi_train))\n",
    "X_final_valid = pd.DataFrame(mz_imputer.transform(X_simi_valid))\n",
    "\n",
    "X_final_train.columns = X_simi_train.columns\n",
    "X_final_valid.columns = X_simi_valid.columns"
   ]
  },
  {
   "cell_type": "code",
   "execution_count": 54,
   "metadata": {},
   "outputs": [
    {
     "name": "stdout",
     "output_type": "stream",
     "text": [
      "MAE:  17807.438333333328\n",
      "RMSE 33919.31112490001\n"
     ]
    }
   ],
   "source": [
    "from sklearn.ensemble import RandomForestRegressor\n",
    "\n",
    "model_2 = RandomForestRegressor(n_estimators=100, random_state=0)\n",
    "\n",
    "model_2.fit(X_final_train, y_train)\n",
    "\n",
    "preds_2 = model_2.predict(X_final_valid)\n",
    "print('MAE: ', mean_absolute_error(preds_2, y_valid))\n",
    "print('RMSE', rmse(y_valid, preds_2))"
   ]
  },
  {
   "cell_type": "code",
   "execution_count": 49,
   "metadata": {
    "scrolled": true
   },
   "outputs": [
    {
     "data": {
      "text/plain": [
       "['Models/xgb_ReplaceMissingWith0']"
      ]
     },
     "execution_count": 49,
     "metadata": {},
     "output_type": "execute_result"
    }
   ],
   "source": [
    "# Save the models \n",
    "joblib.dump(model_1, 'Models/rf_ReplaceMissingWith0')"
   ]
  },
  {
   "cell_type": "code",
   "execution_count": 15,
   "metadata": {},
   "outputs": [],
   "source": [
    "# Generate test predictions\n",
    "preds_test = rf.predict(numeric_test_data)\n",
    "\n",
    "# Save and submit \n",
    "output = pd.DataFrame({'Id': numeric_test_data.index,\n",
    "                     'SalePrice': preds_test})\n",
    "\n",
    "output.to_csv('submission.csv', index=False)"
   ]
  }
 ],
 "metadata": {
  "kernelspec": {
   "display_name": "Python 3",
   "language": "python",
   "name": "python3"
  },
  "language_info": {
   "codemirror_mode": {
    "name": "ipython",
    "version": 3
   },
   "file_extension": ".py",
   "mimetype": "text/x-python",
   "name": "python",
   "nbconvert_exporter": "python",
   "pygments_lexer": "ipython3",
   "version": "3.7.3"
  }
 },
 "nbformat": 4,
 "nbformat_minor": 2
}
